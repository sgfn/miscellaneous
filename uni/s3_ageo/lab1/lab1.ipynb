{
 "cells": [
  {
   "cell_type": "markdown",
   "metadata": {},
   "source": [
    "# Geometryczne - lab 1 - ćwiczenie 1"
   ]
  },
  {
   "cell_type": "markdown",
   "metadata": {},
   "source": [
    "1. Przygotuj następujące zbiory punktów (2D, współrzędne rzeczywiste typu double):\n",
    "- a) 10^5 losowych punktów o współrzędnych z przedziału [-1000, 1000],\n",
    "- b) 10^5 losowych punktów o współrzędnych z przedziału [-10^14 , 10^14 ],\n",
    "- c) 1000 losowych punktów leżących na okręgu o środku (0,0) i promieniu R=100,\n",
    "- d) 1000 losowych punktów o współrzędnych z przedziału [-1000, 1000] leżących na prostej\n",
    "wyznaczonej przez wektor (a, b),\n",
    "przyjmij a = [-1.0, 0.0], b = [1.0, 0.1].\n",
    "2. Uruchom wizualizację graficzną utworzonych zbiorów punktów.\n",
    "3. Przygotuj program, który dla każdego ze zbioru danych dokona podziału punktów względem ich\n",
    "orientacji w stosunku do odcinka ab ( a = [-1.0, 0.0], b = [1.0, 0.1] – punkty znajdujące się po\n",
    "lewej stronie, po prawej stronie oraz współliniowe. Obliczenia wykonaj przy pomocy\n",
    "wyznacznika (1) i następnie (2) zaimplementowanego samodzielnie. Wyszukaj w bibliotekach\n",
    "numerycznych procedury obliczania wyznacznika 3x3 i 2x2. Dla każdego zbioru danych\n",
    "porównaj wyniki (podział punktów) uzyskane przy pomocy obu wyznaczników wyliczanych\n",
    "procedurami własnymi i bibliotecznymi. Określ, ile punktów (i jakich) zostało inaczej\n",
    "zakwalifikowanych dla różnych sposobów liczenia wyznacznika. Zbadaj wyniki dla różnej\n",
    "tolerancji dla zera oraz różnych precyzji obliczeń. Odpowiednio zaprezentuj otrzymane wyniki\n",
    "w tabelach\n",
    "4. Przedstaw graficznie różnice w podziale punktów"
   ]
  },
  {
   "cell_type": "markdown",
   "metadata": {},
   "source": [
    "### Narzędzie geometryczne"
   ]
  },
  {
   "cell_type": "code",
   "execution_count": null,
   "metadata": {},
   "outputs": [],
   "source": [
    "####################### GEOMETRIA #######################\n",
    "# Narzędzie jest oparte o kilka zewnętrznych bibliotek, które potrzebujemy najpierw zaimportować.\n",
    "import numpy as np\n",
    "import matplotlib.pyplot as plt\n",
    "import matplotlib.collections as mcoll\n",
    "import matplotlib.colors as mcolors\n",
    "from matplotlib.widgets import Button\n",
    "import json as js\n",
    "\n",
    "# Parametr określający jak blisko (w odsetku całego widocznego zakresu) punktu początkowego \n",
    "# wielokąta musimy kliknąć, aby go zamknąć.\n",
    "TOLERANCE = 0.15\n",
    "\n",
    "def dist(point1, point2):\n",
    "    return np.sqrt(np.power(point1[0] - point2[0], 2) + np.power(point1[1] - point2[1], 2))\n",
    "\n",
    "# Klasa ta trzyma obecny stan wykresu oraz posiada metody, które mają zostać wykonane\n",
    "# po naciśnięciu przycisków.\n",
    "class _Button_callback(object):\n",
    "    def __init__(self, scenes):\n",
    "        self.i = 0\n",
    "        self.scenes = scenes\n",
    "        self.adding_points = False\n",
    "        self.added_points = []\n",
    "        self.adding_lines = False\n",
    "        self.added_lines = []\n",
    "        self.adding_rects = False\n",
    "        self.added_rects = []\n",
    "\n",
    "    def set_axes(self, ax):\n",
    "        self.ax = ax\n",
    "        \n",
    "    # Metoda ta obsługuje logikę przejścia do następnej sceny.\n",
    "    def next(self, event):\n",
    "        self.i = (self.i + 1) % len(self.scenes)\n",
    "        self.draw(autoscaling = True)\n",
    "\n",
    "    # Metoda ta obsługuje logikę powrotu do poprzedniej sceny.\n",
    "    def prev(self, event):\n",
    "        self.i = (self.i - 1) % len(self.scenes)\n",
    "        self.draw(autoscaling = True)\n",
    "        \n",
    "    # Metoda ta aktywuje funkcję rysowania punktów wyłączając równocześnie rysowanie \n",
    "    # odcinków i wielokątów.\n",
    "    def add_point(self, event):\n",
    "        self.adding_points = not self.adding_points\n",
    "        self.new_line_point = None\n",
    "        if self.adding_points:\n",
    "            self.adding_lines = False\n",
    "            self.adding_rects = False\n",
    "            self.added_points.append(PointsCollection([]))\n",
    "            \n",
    "    # Metoda ta aktywuje funkcję rysowania odcinków wyłączając równocześnie\n",
    "    # rysowanie punktów i wielokątów.     \n",
    "    def add_line(self, event):   \n",
    "        self.adding_lines = not self.adding_lines\n",
    "        self.new_line_point = None\n",
    "        if self.adding_lines:\n",
    "            self.adding_points = False\n",
    "            self.adding_rects = False\n",
    "            self.added_lines.append(LinesCollection([]))\n",
    "\n",
    "    # Metoda ta aktywuje funkcję rysowania wielokątów wyłączając równocześnie\n",
    "    # rysowanie punktów i odcinków.\n",
    "    def add_rect(self, event):\n",
    "        self.adding_rects = not self.adding_rects\n",
    "        self.new_line_point = None\n",
    "        if self.adding_rects:\n",
    "            self.adding_points = False\n",
    "            self.adding_lines = False\n",
    "            self.new_rect()\n",
    "    \n",
    "    def new_rect(self):\n",
    "        self.added_rects.append(LinesCollection([]))\n",
    "        self.rect_points = []\n",
    "        \n",
    "    # Metoda odpowiedzialna za właściwą logikę rysowania nowych elementów. W\n",
    "    # zależności od włączonego trybu dodaje nowe punkty, początek, koniec odcinka\n",
    "    # lub poszczególne wierzchołki wielokąta. Istnieje ciekawa logika sprawdzania\n",
    "    # czy dany punkt jest domykający dla danego wielokąta. Polega ona na tym, że\n",
    "    # sprawdzamy czy odległość nowego punktu od początkowego jest większa od\n",
    "    # średniej długości zakresu pomnożonej razy parametr TOLERANCE.   \n",
    "    def on_click(self, event):\n",
    "        if event.inaxes != self.ax:\n",
    "            return\n",
    "        new_point = (event.xdata, event.ydata)\n",
    "        if self.adding_points:\n",
    "            self.added_points[-1].add_points([new_point])\n",
    "            self.draw(autoscaling = False)\n",
    "        elif self.adding_lines:\n",
    "            if self.new_line_point is not None:\n",
    "                self.added_lines[-1].add([self.new_line_point, new_point])\n",
    "                self.new_line_point = None\n",
    "                self.draw(autoscaling = False)\n",
    "            else:\n",
    "                self.new_line_point = new_point\n",
    "        elif self.adding_rects:\n",
    "            if len(self.rect_points) == 0:\n",
    "                self.rect_points.append(new_point)\n",
    "            elif len(self.rect_points) == 1:\n",
    "                self.added_rects[-1].add([self.rect_points[-1], new_point])\n",
    "                self.rect_points.append(new_point)\n",
    "                self.draw(autoscaling = False)\n",
    "            elif len(self.rect_points) > 1:\n",
    "                if dist(self.rect_points[0], new_point) < (np.mean([self.ax.get_xlim(), self.ax.get_ylim()])*TOLERANCE):\n",
    "                    self.added_rects[-1].add([self.rect_points[-1], self.rect_points[0]])\n",
    "                    self.new_rect()\n",
    "                else:    \n",
    "                    self.added_rects[-1].add([self.rect_points[-1], new_point])\n",
    "                    self.rect_points.append(new_point)\n",
    "                self.draw(autoscaling = False)\n",
    "    \n",
    "    # Metoda odpowiedzialna za narysowanie całego wykresu. Warto zauważyć,\n",
    "    # że zaczyna się ona od wyczyszczenia jego wcześniejszego stanu. Istnieje w\n",
    "    # niej nietrywialna logika zarządzania zakresem wykresu, tak żeby, w zależności\n",
    "    # od ustawionego parametru autoscaling, uniknąć sytuacji, kiedy dodawanie\n",
    "    # nowych punktów przy brzegu obecnie widzianego zakresu powoduje niekorzystne\n",
    "    # przeskalowanie.\n",
    "    def draw(self, autoscaling = True):\n",
    "        if not autoscaling:\n",
    "            xlim = self.ax.get_xlim()\n",
    "            ylim = self.ax.get_ylim()\n",
    "        self.ax.clear()\n",
    "        for collection in (self.scenes[self.i].points + self.added_points):\n",
    "            if len(collection.points) > 0:\n",
    "                self.ax.scatter(*zip(*(np.array(collection.points))), **collection.kwargs)\n",
    "        for collection in (self.scenes[self.i].lines + self.added_lines + self.added_rects):\n",
    "            self.ax.add_collection(collection.get_collection())\n",
    "        self.ax.autoscale(autoscaling)\n",
    "        if not autoscaling:\n",
    "            self.ax.set_xlim(xlim)\n",
    "            self.ax.set_ylim(ylim)\n",
    "        plt.draw()\n",
    "\n",
    "# Klasa Scene odpowiada za przechowywanie elementów, które mają być\n",
    "# wyświetlane równocześnie. Konkretnie jest to lista PointsCollection i\n",
    "# LinesCollection.\n",
    "class Scene:\n",
    "    def __init__(self, points=[], lines=[]):\n",
    "        self.points=points\n",
    "        self.lines=lines\n",
    "\n",
    "# Klasa PointsCollection gromadzi w sobie punkty jednego typu, a więc takie,\n",
    "# które zostaną narysowane w takim samym kolorze i stylu. W konstruktorze\n",
    "# przyjmuje listę punktów rozumianych jako pary współrzędnych (x, y). Parametr\n",
    "# kwargs jest przekazywany do wywołania funkcji z biblioteki MatPlotLib przez\n",
    "# co użytkownik może podawać wszystkie parametry tam zaproponowane.        \n",
    "class PointsCollection:\n",
    "    def __init__(self, points, **kwargs):\n",
    "        self.points = points\n",
    "        self.kwargs = kwargs\n",
    "    \n",
    "    def add_points(self, points):\n",
    "        self.points = self.points + points\n",
    "\n",
    "# Klasa LinesCollection podobnie jak jej punktowy odpowiednik gromadzi\n",
    "# odcinki tego samego typu. Tworząc ją należy podać listę linii, gdzie każda\n",
    "# z nich jest dwuelementową listą punktów – par (x, y). Parametr kwargs jest\n",
    "# przekazywany do wywołania funkcji z biblioteki MatPlotLib przez co użytkownik\n",
    "# może podawać wszystkie parametry tam zaproponowane.\n",
    "class LinesCollection:\n",
    "    def __init__(self, lines, **kwargs):\n",
    "        self.lines = lines\n",
    "        self.kwargs = kwargs\n",
    "        \n",
    "    def add(self, line):\n",
    "        self.lines.append(line)\n",
    "        \n",
    "    def get_collection(self):\n",
    "        return mcoll.LineCollection(self.lines, **self.kwargs)\n",
    "\n",
    "# Klasa Plot jest najważniejszą klasą w całym programie, ponieważ agreguje\n",
    "# wszystkie przygotowane sceny, odpowiada za stworzenie wykresu i przechowuje\n",
    "# referencje na przyciski, dzięki czemu nie będą one skasowane podczas tzw.\n",
    "# garbage collectingu.\n",
    "class Plot:\n",
    "    def __init__(self, scenes = [Scene()], points = [], lines = [], json = None):\n",
    "        if json is None:\n",
    "            self.scenes = scenes\n",
    "            if points or lines:\n",
    "                self.scenes[0].points = points\n",
    "                self.scenes[0].lines = lines\n",
    "        else:\n",
    "            self.scenes = [Scene([PointsCollection(pointsCol) for pointsCol in scene[\"points\"]], \n",
    "                                 [LinesCollection(linesCol) for linesCol in scene[\"lines\"]]) \n",
    "                           for scene in js.loads(json)]\n",
    "    \n",
    "    # Ta metoda ma szczególne znaczenie, ponieważ konfiguruje przyciski i\n",
    "    # wykonuje tym samym dość skomplikowaną logikę. Zauważmy, że konfigurując każdy\n",
    "    # przycisk podajemy referencję na metodę obiektu _Button_callback, która\n",
    "    # zostanie wykonana w momencie naciśnięcia.\n",
    "    def __configure_buttons(self):\n",
    "        plt.subplots_adjust(bottom=0.2)\n",
    "        ax_prev = plt.axes([0.6, 0.05, 0.15, 0.075])\n",
    "        ax_next = plt.axes([0.76, 0.05, 0.15, 0.075])\n",
    "        ax_add_point = plt.axes([0.44, 0.05, 0.15, 0.075])\n",
    "        ax_add_line = plt.axes([0.28, 0.05, 0.15, 0.075])\n",
    "        ax_add_rect = plt.axes([0.12, 0.05, 0.15, 0.075])\n",
    "        b_next = Button(ax_next, 'Następny')\n",
    "        b_next.on_clicked(self.callback.next)\n",
    "        b_prev = Button(ax_prev, 'Poprzedni')\n",
    "        b_prev.on_clicked(self.callback.prev)\n",
    "        b_add_point = Button(ax_add_point, 'Dodaj punkt')\n",
    "        b_add_point.on_clicked(self.callback.add_point)\n",
    "        b_add_line = Button(ax_add_line, 'Dodaj linię')\n",
    "        b_add_line.on_clicked(self.callback.add_line)\n",
    "        b_add_rect = Button(ax_add_rect, 'Dodaj figurę')\n",
    "        b_add_rect.on_clicked(self.callback.add_rect)\n",
    "        return [b_prev, b_next, b_add_point, b_add_line, b_add_rect]\n",
    "    \n",
    "    def add_scene(self, scene):\n",
    "        self.scenes.append(scene)\n",
    "    \n",
    "    def add_scenes(self, scenes):\n",
    "        self.scenes = self.scenes + scenes\n",
    "\n",
    "    # Metoda toJson() odpowiada za zapisanie stanu obiektu do ciągu znaków w\n",
    "    # formacie JSON.\n",
    "    def toJson(self):\n",
    "        return js.dumps([{\"points\": [np.array(pointCol.points).tolist() for pointCol in scene.points], \n",
    "                          \"lines\":[linesCol.lines for linesCol in scene.lines]} \n",
    "                         for scene in self.scenes])    \n",
    "    \n",
    "    # Metoda ta zwraca punkty dodane w trakcie rysowania.\n",
    "    def get_added_points(self):\n",
    "        if self.callback:\n",
    "            return self.callback.added_points\n",
    "        else:\n",
    "            return None\n",
    "    \n",
    "    # Metoda ta zwraca odcinki dodane w trakcie rysowania.\n",
    "    def get_added_lines(self):\n",
    "        if self.callback:\n",
    "            return self.callback.added_lines\n",
    "        else:\n",
    "            return None\n",
    "        \n",
    "    # Metoda ta zwraca wielokąty dodane w trakcie rysowania.\n",
    "    def get_added_figure(self):\n",
    "        if self.callback:\n",
    "            return self.callback.added_rects\n",
    "        else:\n",
    "            return None\n",
    "    \n",
    "    # Metoda ta zwraca punkty, odcinki i wielokąty dodane w trakcie rysowania\n",
    "    # jako scenę.\n",
    "    def get_added_elements(self):\n",
    "        if self.callback:\n",
    "            return Scene(self.callback.added_points, self.callback.added_lines+self.callback.added_rects)\n",
    "        else:\n",
    "            return None\n",
    "    \n",
    "    # Główna metoda inicjalizująca wyświetlanie wykresu.\n",
    "    def draw(self):\n",
    "        plt.close()\n",
    "        fig = plt.figure()\n",
    "        self.callback = _Button_callback(self.scenes)\n",
    "        self.widgets = self.__configure_buttons()\n",
    "        ax = plt.axes(autoscale_on = False)\n",
    "        self.callback.set_axes(ax)\n",
    "        fig.canvas.mpl_connect('button_press_event', self.callback.on_click)\n",
    "        plt.show()\n",
    "        self.callback.draw()\n",
    "####################### GEOMETRIA KONIEC #######################\n"
   ]
  },
  {
   "cell_type": "markdown",
   "metadata": {},
   "source": [
    "## Generowanie punktów"
   ]
  },
  {
   "cell_type": "code",
   "execution_count": null,
   "metadata": {},
   "outputs": [],
   "source": [
    "import numpy as np\n",
    "\n",
    "def gen_points():\n",
    "    points_a = [ (np.random.uniform(-1000, 1000), np.random.uniform(-1000, 1000)) for _ in range(10**5) ]\n",
    "    points_b = [ (np.random.uniform(-10**14, 10**14), np.random.uniform(-10**14, 10**14)) for _ in range(10**5) ]\n",
    "    points_c = []\n",
    "    for _ in range(1000):\n",
    "        t = np.random.uniform(-1, 1)\n",
    "        points_c.append( (np.cos(np.pi*t)*100, np.sin(np.pi*t)*100) )\n",
    "\n",
    "    points_d = []\n",
    "    # x = x_0 + mt, y = y_0 + nt\n",
    "    # x = -1 + 2*t, y = 0 + 0.1*t\n",
    "    a = (-1, 0)\n",
    "    b = (1, 0.1)\n",
    "    v = (2, 0.1)\n",
    "    for _ in range(1000):\n",
    "        x = np.random.uniform(-1000, 1000)\n",
    "        t = (x + 1)/2\n",
    "        points_d.append( (x, 0.1*t) )\n",
    "    return points_a, points_b, points_c, points_d\n",
    "\n",
    "pts_a, pts_b, pts_c, pts_d = gen_points()"
   ]
  },
  {
   "cell_type": "markdown",
   "metadata": {},
   "source": [
    "### Alternatywnie, punkty już wygenerowane i zserializowane można załadować z pliku"
   ]
  },
  {
   "cell_type": "code",
   "execution_count": null,
   "metadata": {},
   "outputs": [],
   "source": [
    "import pickle\n",
    "\n",
    "with open('data/points.pickle', 'rb') as f:\n",
    "    dt = pickle.load(f)\n",
    "\n",
    "pts_a, pts_b, pts_c, pts_d = dt"
   ]
  },
  {
   "cell_type": "markdown",
   "metadata": {},
   "source": [
    "## Wizualizacja zbiorów punktów\n",
    "\n",
    "W razie problemów proszę spróbować zmienić widoczne niżej `%matplotlib widget` na `%matplotlib notebook`"
   ]
  },
  {
   "cell_type": "code",
   "execution_count": null,
   "metadata": {},
   "outputs": [],
   "source": [
    "%matplotlib widget\n",
    "\n",
    "plot = Plot(points=[PointsCollection(pts_a, s=.5)])\n",
    "plot.draw()"
   ]
  },
  {
   "cell_type": "code",
   "execution_count": null,
   "metadata": {},
   "outputs": [],
   "source": [
    "plot = Plot(points=[PointsCollection(pts_b, s=.5)])\n",
    "plot.draw()"
   ]
  },
  {
   "cell_type": "code",
   "execution_count": null,
   "metadata": {},
   "outputs": [],
   "source": [
    "plot = Plot(points=[PointsCollection(pts_c, s=.5)])\n",
    "plot.draw()"
   ]
  },
  {
   "cell_type": "code",
   "execution_count": null,
   "metadata": {},
   "outputs": [],
   "source": [
    "plot = Plot(points=[PointsCollection(pts_d, s=.5)])\n",
    "plot.draw()"
   ]
  },
  {
   "cell_type": "markdown",
   "metadata": {},
   "source": [
    "## Obliczenia\n",
    "\n",
    "### Wyznaczniki\n",
    "Uwaga: typ `numpy.float128` jest niedostępny np. na 64-bitowym Windowsie."
   ]
  },
  {
   "cell_type": "code",
   "execution_count": null,
   "metadata": {},
   "outputs": [],
   "source": [
    "#################### WYZNACZNIKI ####################\n",
    "import math\n",
    "\n",
    "# Typ o wysokiej precyzji - dostępny tylko na niektórych platformach\n",
    "PLATFORM_HAS_HPREC = hasattr(np, 'float128')\n",
    "if not PLATFORM_HAS_HPREC:\n",
    "    print('Uwaga: Platforma nie obsługuje typu o wysokiej precyzji.')\n",
    "    hprec_type = np.float64\n",
    "else:\n",
    "    hprec_type = np.float128\n",
    "\n",
    "def det_2x2(a, b, c, hprec=False):\n",
    "    if hprec:\n",
    "        ax, ay = hprec_type(a[0]), hprec_type(a[1])\n",
    "        bx, by = hprec_type(b[0]), hprec_type(b[1])\n",
    "        cx, cy = hprec_type(c[0]), hprec_type(c[1])\n",
    "        return hprec_type((ax-cx)*(by-cy) + (cy-ay)*(bx-cx))\n",
    "    ax, ay = a\n",
    "    bx, by = b\n",
    "    cx, cy = c\n",
    "    return np.float64((ax-cx)*(by-cy) + (cy-ay)*(bx-cx))\n",
    "\n",
    "def det_3x3(a, b, c, hprec=False):\n",
    "    if hprec:\n",
    "        ax, ay = hprec_type(a[0]), hprec_type(a[1])\n",
    "        bx, by = hprec_type(b[0]), hprec_type(b[1])\n",
    "        cx, cy = hprec_type(c[0]), hprec_type(c[1])\n",
    "        return hprec_type(ax*by + bx*cy + cx*ay - cx*by - ax*cy - bx*ay)\n",
    "    ax, ay = a\n",
    "    bx, by = b\n",
    "    cx, cy = c\n",
    "    return np.float64(math.fsum([ax*by, bx*cy, cx*ay, -cx*by, -ax*cy, -bx*ay]))\n",
    "\n",
    "def lib_det_2x2_wrapper(a, b, c, hprec=False):\n",
    "    if hprec:\n",
    "        # np.linalg nie wspiera np.float128\n",
    "        pass\n",
    "        # ax, ay = hprec_type(a[0]), hprec_type(a[1])\n",
    "        # bx, by = hprec_type(b[0]), hprec_type(b[1])\n",
    "        # cx, cy = hprec_type(c[0]), hprec_type(c[1])\n",
    "        # array = [[ax-cx, ay-cy], [bx-cx, by-cy]]\n",
    "        # return hprec_type(np.linalg.det(array))\n",
    "    array = [[a[0]-c[0], a[1]-c[1]], [b[0]-c[0], b[1]-c[1]]]\n",
    "    return np.float64(np.linalg.det(array))\n",
    "\n",
    "def lib_det_3x3_wrapper(a, b, c, hprec=False):\n",
    "    if hprec:\n",
    "        # np.linalg nie wspiera np.float128\n",
    "        pass\n",
    "        # ax, ay = hprec_type(a[0]), hprec_type(a[1])\n",
    "        # bx, by = hprec_type(b[0]), hprec_type(b[1])\n",
    "        # cx, cy = hprec_type(c[0]), hprec_type(c[1])\n",
    "        # array = [[ax, ay, 1], [bx, by, 1], [cx, cy, 1]]\n",
    "        # return hprec_type(np.linalg.det(array))\n",
    "    array = [[a[0], a[1], 1], [b[0], b[1], 1], [c[0], c[1], 1]]\n",
    "    return np.float64(np.linalg.det(array))\n"
   ]
  },
  {
   "cell_type": "markdown",
   "metadata": {},
   "source": [
    "### Podział punktów"
   ]
  },
  {
   "cell_type": "code",
   "execution_count": null,
   "metadata": {},
   "outputs": [],
   "source": [
    "SIDES = {1: 'left', 0: 'coll', -1: 'right'}\n",
    "\n",
    "def side_to_str(rc):\n",
    "    return SIDES[rc]\n",
    "\n",
    "\n",
    "def which_side(a, b, c, eps, det_fun, hprec=False):\n",
    "    res = det_fun(a, b, c, hprec)\n",
    "    if res > eps:\n",
    "        return 1\n",
    "    if res < -eps:\n",
    "        return -1\n",
    "    return 0\n",
    "\n",
    "\n",
    "A = (-1, 0)\n",
    "B = (1, 0.1)\n",
    "\n",
    "def group_points(points, eps=10**(-8), det_fun=det_2x2, hprec=False):\n",
    "    res = [[],[],[]]\n",
    "    for c in points:\n",
    "        res[which_side(A, B, c, eps, det_fun, hprec)+1].append(c)\n",
    "    return res\n",
    "\n",
    "\n",
    "def do_math(custom_dets=None, hprec=False):\n",
    "    if hprec and not PLATFORM_HAS_HPREC:\n",
    "        print('Uwaga: Platforma nie obsługuje typu o wysokiej precyzji.')\n",
    "        return {}\n",
    "    points_d = {'A': pts_a, 'B': pts_b, 'C': pts_c, 'D': pts_d}\n",
    "    dets_d = {'own det 2x2': det_2x2, 'own det 3x3': det_3x3, 'lib det 2x2': lib_det_2x2_wrapper, 'lib det 3x3': lib_det_3x3_wrapper}\n",
    "    eps_d = {'10^-10': 10**(-10), '10^-12': 10**(-12), '10^-14': 10**(-14)}\n",
    "    if hprec:\n",
    "        dets_d.pop('lib det 2x2')\n",
    "        dets_d.pop('lib det 3x3')\n",
    "        eps_d['10^-16'] = hprec_type(10**(-16))\n",
    "        eps_d['10^-18'] = hprec_type(10**(-18))\n",
    "    results = {}\n",
    "    for pts_str, pts in points_d.items():\n",
    "        result_pts = {}\n",
    "        if custom_dets is not None:\n",
    "            dets_d = custom_dets\n",
    "        for det_str, det in dets_d.items():\n",
    "            result_pts_det = {}\n",
    "            if hprec:\n",
    "                det_str += ' (HP)'\n",
    "            for eps_str, eps in eps_d.items():\n",
    "                result_pts_det[eps_str] = group_points(pts, eps=eps, det_fun=det, hprec=hprec)\n",
    "            result_pts[det_str] = result_pts_det\n",
    "        results[pts_str] = result_pts\n",
    "    return results"
   ]
  },
  {
   "cell_type": "markdown",
   "metadata": {},
   "source": [
    "## Mierzenie czasu wykonania funkcji"
   ]
  },
  {
   "cell_type": "code",
   "execution_count": null,
   "metadata": {},
   "outputs": [],
   "source": [
    "import timeit\n",
    "\n",
    "d = {'own det 2x2': det_2x2}\n",
    "t = timeit.Timer(\"do_math(d)\", setup=\"from __main__ import do_math, d\")\n",
    "t.repeat(number=10)"
   ]
  },
  {
   "cell_type": "code",
   "execution_count": null,
   "metadata": {},
   "outputs": [],
   "source": [
    "d = {'own det 3x3': det_3x3}\n",
    "t = timeit.Timer(\"do_math(d)\", setup=\"from __main__ import do_math, d\")\n",
    "t.repeat(number=10)"
   ]
  },
  {
   "cell_type": "code",
   "execution_count": null,
   "metadata": {},
   "outputs": [],
   "source": [
    "d = {'lib det 2x2': lib_det_2x2_wrapper}\n",
    "t = timeit.Timer(\"do_math(d)\", setup=\"from __main__ import do_math, d\")\n",
    "t.repeat(number=10)"
   ]
  },
  {
   "cell_type": "code",
   "execution_count": null,
   "metadata": {},
   "outputs": [],
   "source": [
    "d = {'lib det 3x3': lib_det_3x3_wrapper}\n",
    "t = timeit.Timer(\"do_math(d)\", setup=\"from __main__ import do_math, d\")\n",
    "t.repeat(number=10)"
   ]
  },
  {
   "cell_type": "markdown",
   "metadata": {},
   "source": [
    "## Prezentacja danych\n",
    "\n",
    "### Definicja funkcji prezentującej dane"
   ]
  },
  {
   "cell_type": "code",
   "execution_count": null,
   "metadata": {},
   "outputs": [],
   "source": [
    "def present_data(*args):\n",
    "    for results in args:\n",
    "        for pts_str, results_pts in results.items():\n",
    "            print(f'[Points set {pts_str}]')\n",
    "            for det_str, results_pts_det in results_pts.items():\n",
    "                print(f'[Using {det_str}]')\n",
    "                print('eps\\tleft\\tcoll\\tright')\n",
    "                for eps_str, entry in results_pts_det.items():\n",
    "                    print(eps_str, end='\\t')\n",
    "                    for l in entry[::-1]:\n",
    "                        print(len(l), end='\\t')\n",
    "                    print()\n",
    "                print()\n",
    "            print()"
   ]
  },
  {
   "cell_type": "markdown",
   "metadata": {},
   "source": [
    "### Definicje funkcji serializujących dane i wczytujących je z pliku"
   ]
  },
  {
   "cell_type": "code",
   "execution_count": null,
   "metadata": {},
   "outputs": [],
   "source": [
    "import pickle\n",
    "import os\n",
    "def dump_to_file(*args, path='data/'):\n",
    "    for i, results in enumerate(args):\n",
    "        if not os.path.exists(path):\n",
    "            os.mkdir(path)\n",
    "        with open(os.path.join(path, f'results{i+1}.pickle'), 'wb') as out_file:\n",
    "            pickle.dump(results, out_file)\n",
    "\n",
    "def load_from_file(fpath):\n",
    "    if not os.path.isfile(fpath):\n",
    "        return {}\n",
    "    with open(fpath, 'rb') as file:\n",
    "        res = pickle.load(file)\n",
    "    return res"
   ]
  },
  {
   "cell_type": "markdown",
   "metadata": {},
   "source": [
    "### Obliczanie wyników"
   ]
  },
  {
   "cell_type": "code",
   "execution_count": null,
   "metadata": {},
   "outputs": [],
   "source": [
    "RESULTS = do_math()\n",
    "RESULTS_HP = do_math(hprec=True)"
   ]
  },
  {
   "cell_type": "markdown",
   "metadata": {},
   "source": [
    "### Wczytywanie wyników z pliku"
   ]
  },
  {
   "cell_type": "code",
   "execution_count": null,
   "metadata": {},
   "outputs": [],
   "source": [
    "RESULTS = load_from_file('data/results1.pickle')\n",
    "RESULTS_HP = load_from_file('data/results2.pickle')"
   ]
  },
  {
   "cell_type": "markdown",
   "metadata": {},
   "source": [
    "### Prezentacja danych\n",
    "\n",
    "Proszę wcisnąć `Open the full output data in a text editor` aby zobaczyć pełne wyjście funkcji"
   ]
  },
  {
   "cell_type": "code",
   "execution_count": null,
   "metadata": {},
   "outputs": [],
   "source": [
    "present_data(RESULTS, RESULTS_HP)"
   ]
  },
  {
   "cell_type": "markdown",
   "metadata": {},
   "source": [
    "### Definicje funkcji prezentujących wizualizacje wyników"
   ]
  },
  {
   "cell_type": "code",
   "execution_count": null,
   "metadata": {},
   "outputs": [],
   "source": [
    "COLOUR_LEFT='#88AAFF'\n",
    "COLOUR_COLL='#11FF11'\n",
    "COLOUR_RIGHT='#FF8888'\n",
    "COLOUR_LINE='#000000'\n",
    "\n",
    "def get_line_points(a, b, x_rng):\n",
    "    # v = (b[0]-a[0], b[1]-a[1])\n",
    "    ax, ay = a\n",
    "    bx, by = b\n",
    "    y = lambda x: (ay-by)/(ax-bx)*x + (ay-(ay-by)/(ax-bx)*ax)\n",
    "    return [(x_rng[0], y(x_rng[0])), (x_rng[1], y(x_rng[1]))]\n",
    "\n",
    "def display_tricolour_points(result, order='lrc', x_rng=None, distinct=''):\n",
    "    pts = []\n",
    "    for clr in order:\n",
    "        if clr == 'l':\n",
    "            pts.append(PointsCollection(result[2], color=COLOUR_LEFT, s=.5))\n",
    "        if clr == 'c':\n",
    "            sz = 10 if 'c' in distinct else .5\n",
    "            pts.append(PointsCollection(result[1], color=COLOUR_COLL, s=sz, marker='o'))\n",
    "        if clr == 'r':\n",
    "            pts.append(PointsCollection(result[0], color=COLOUR_RIGHT, s=.5))\n",
    "    lines = [LinesCollection([get_line_points(A, B, x_rng)], color=COLOUR_LINE, linewidth=.5)] if x_rng is not None else []\n",
    "    plot = Plot(lines=lines, points=pts)\n",
    "    plot.draw()\n",
    "\n",
    "def display_compound_data(results):\n",
    "    eps_order = ('10^-10', '10^-12', '10^-14')\n",
    "    colours_order = (('midnightblue', 'maroon'), ('blue', 'red'), ('royalblue', 'tomato'))\n",
    "    left_used = set()\n",
    "    right_used = set()\n",
    "    pts = []\n",
    "    for eps, (colour_left, colour_right) in zip(eps_order, colours_order):\n",
    "        result = results[eps]\n",
    "        left_new = [x for x in result[2] if x not in left_used]\n",
    "        right_new = [x for x in result[0] if x not in right_used]\n",
    "        pts.append(PointsCollection(left_new, color=colour_left, s=.5))\n",
    "        pts.append(PointsCollection(right_new, color=colour_right, s=.5))\n",
    "        left_used.update(left_new)\n",
    "        right_used.update(right_new)\n",
    "    plot = Plot(points=pts)\n",
    "    plot.draw()"
   ]
  },
  {
   "cell_type": "markdown",
   "metadata": {},
   "source": [
    "### Wizualizacje wyników"
   ]
  },
  {
   "cell_type": "code",
   "execution_count": null,
   "metadata": {},
   "outputs": [],
   "source": [
    "display_tricolour_points(RESULTS['A']['own det 2x2']['10^-10'], x_rng=(-1000, 1000))"
   ]
  },
  {
   "cell_type": "code",
   "execution_count": null,
   "metadata": {},
   "outputs": [],
   "source": [
    "display_tricolour_points(RESULTS['B']['own det 3x3']['10^-10'], x_rng=(-10**14, 10**14))"
   ]
  },
  {
   "cell_type": "code",
   "execution_count": null,
   "metadata": {},
   "outputs": [],
   "source": [
    "display_tricolour_points(RESULTS['B']['own det 2x2']['10^-10'], x_rng=(-10**14, 10**14), distinct='c')"
   ]
  },
  {
   "cell_type": "code",
   "execution_count": null,
   "metadata": {},
   "outputs": [],
   "source": [
    "display_tricolour_points(RESULTS['B']['lib det 2x2']['10^-10'], x_rng=(-10**14, 10**14), distinct='c')"
   ]
  },
  {
   "cell_type": "code",
   "execution_count": null,
   "metadata": {},
   "outputs": [],
   "source": [
    "display_tricolour_points(RESULTS['C']['own det 2x2']['10^-10'], x_rng=(-100, 100))"
   ]
  },
  {
   "cell_type": "code",
   "execution_count": null,
   "metadata": {},
   "outputs": [],
   "source": [
    "display_tricolour_points(RESULTS['D']['own det 2x2']['10^-10'], 'crl')"
   ]
  },
  {
   "cell_type": "code",
   "execution_count": null,
   "metadata": {},
   "outputs": [],
   "source": [
    "display_compound_data(RESULTS['D']['own det 2x2'])"
   ]
  },
  {
   "cell_type": "code",
   "execution_count": null,
   "metadata": {},
   "outputs": [],
   "source": [
    "display_compound_data(RESULTS['D']['lib det 3x3'])"
   ]
  },
  {
   "cell_type": "code",
   "execution_count": null,
   "metadata": {},
   "outputs": [],
   "source": [
    "display_compound_data(RESULTS['D']['lib det 2x2'])"
   ]
  },
  {
   "cell_type": "markdown",
   "metadata": {},
   "source": [
    "### Poniższe wizualizacje dostępne wyłącznie jeśli policzono wyniki z wyższą precyzją"
   ]
  },
  {
   "cell_type": "code",
   "execution_count": null,
   "metadata": {},
   "outputs": [],
   "source": [
    "display_tricolour_points(RESULTS_HP['D']['own det 2x2 (HP)']['10^-16'], 'clr')"
   ]
  },
  {
   "cell_type": "code",
   "execution_count": null,
   "metadata": {},
   "outputs": [],
   "source": [
    "display_tricolour_points(RESULTS_HP['D']['own det 3x3 (HP)']['10^-16'], 'clr')"
   ]
  }
 ],
 "metadata": {
  "kernelspec": {
   "display_name": "Python 3.8.10 64-bit",
   "language": "python",
   "name": "python3"
  },
  "language_info": {
   "codemirror_mode": {
    "name": "ipython",
    "version": 3
   },
   "file_extension": ".py",
   "mimetype": "text/x-python",
   "name": "python",
   "nbconvert_exporter": "python",
   "pygments_lexer": "ipython3",
   "version": "3.8.10"
  },
  "orig_nbformat": 4,
  "vscode": {
   "interpreter": {
    "hash": "31f2aee4e71d21fbe5cf8b01ff0e069b9275f58929596ceb00d14d90e3e16cd6"
   }
  }
 },
 "nbformat": 4,
 "nbformat_minor": 2
}
